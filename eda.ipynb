{
 "cells": [
  {
   "cell_type": "code",
   "execution_count": 14,
   "id": "5e72945f",
   "metadata": {},
   "outputs": [
    {
     "name": "stdout",
     "output_type": "stream",
     "text": [
      "['sepal length (cm)', 'sepal width (cm)', 'petal length (cm)', 'petal width (cm)']\n",
      "sepal length (cm) minimum: 4.3\n",
      "sepal length (cm) maximum: 7.9\n",
      "sepal width (cm) minimum: 2.0\n",
      "sepal width (cm) maximum: 4.4\n",
      "petal length (cm) minimum: 1.0\n",
      "petal length (cm) maximum: 6.9\n",
      "petal width (cm) minimum: 0.1\n",
      "petal width (cm) maximum: 2.5\n"
     ]
    }
   ],
   "source": [
    "from sklearn.datasets import load_iris\n",
    "\n",
    "iris = load_iris()\n",
    "X = iris.data\n",
    "f = iris.feature_names\n",
    "print(f)\n",
    "\n",
    "\n",
    "for i in range(len(f)):\n",
    "    print(f'{f[i]} minimum: {X[: , i].min()}')\n",
    "    print(f'{f[i]} maximum: {X[: , i].max()}')\n"
   ]
  },
  {
   "cell_type": "code",
   "execution_count": null,
   "id": "d1752162",
   "metadata": {},
   "outputs": [],
   "source": []
  }
 ],
 "metadata": {
  "kernelspec": {
   "display_name": "iris_venv",
   "language": "python",
   "name": "python3"
  },
  "language_info": {
   "codemirror_mode": {
    "name": "ipython",
    "version": 3
   },
   "file_extension": ".py",
   "mimetype": "text/x-python",
   "name": "python",
   "nbconvert_exporter": "python",
   "pygments_lexer": "ipython3",
   "version": "3.12.7"
  }
 },
 "nbformat": 4,
 "nbformat_minor": 5
}
